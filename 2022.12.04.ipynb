{
 "cells": [
  {
   "cell_type": "markdown",
   "id": "dfc594aa-8837-405b-8315-5d5e78e83208",
   "metadata": {},
   "source": [
    "# calculations"
   ]
  },
  {
   "cell_type": "code",
   "execution_count": 18,
   "id": "213e15e3-3d21-465f-bffe-0093d88cf500",
   "metadata": {
    "tags": []
   },
   "outputs": [
    {
     "data": {
      "text/plain": [
       "62"
      ]
     },
     "execution_count": 18,
     "metadata": {},
     "output_type": "execute_result"
    }
   ],
   "source": [
    "2+60"
   ]
  },
  {
   "cell_type": "code",
   "execution_count": 13,
   "id": "1c6297a2-c931-4bdf-81fa-442903a4a4f5",
   "metadata": {
    "collapsed": true,
    "jupyter": {
     "outputs_hidden": true
    },
    "tags": []
   },
   "outputs": [
    {
     "data": {
      "text/plain": [
       "20"
      ]
     },
     "execution_count": 13,
     "metadata": {},
     "output_type": "execute_result"
    }
   ],
   "source": [
    "10*2"
   ]
  },
  {
   "cell_type": "markdown",
   "id": "e493068f-e198-4236-890c-facf976e9549",
   "metadata": {},
   "source": [
    "### List"
   ]
  },
  {
   "cell_type": "code",
   "execution_count": 14,
   "id": "94ae58ed-dd89-4977-b1cf-3bf2128849e2",
   "metadata": {
    "collapsed": true,
    "jupyter": {
     "outputs_hidden": true
    }
   },
   "outputs": [],
   "source": [
    "l=list(\"Programming\")"
   ]
  },
  {
   "cell_type": "code",
   "execution_count": 15,
   "id": "390db4e4-8f50-46bd-842e-c32a17f17576",
   "metadata": {
    "collapsed": true,
    "jupyter": {
     "outputs_hidden": true
    }
   },
   "outputs": [
    {
     "data": {
      "text/plain": [
       "['P', 'r', 'o', 'g', 'r', 'a', 'm', 'm', 'i', 'n', 'g']"
      ]
     },
     "execution_count": 15,
     "metadata": {},
     "output_type": "execute_result"
    }
   ],
   "source": [
    "l"
   ]
  },
  {
   "cell_type": "code",
   "execution_count": 16,
   "id": "a3797105-1e05-4d3f-8da7-e4b875533080",
   "metadata": {
    "collapsed": true,
    "jupyter": {
     "outputs_hidden": true
    }
   },
   "outputs": [
    {
     "data": {
      "text/plain": [
       "['__add__',\n",
       " '__class__',\n",
       " '__class_getitem__',\n",
       " '__contains__',\n",
       " '__delattr__',\n",
       " '__delitem__',\n",
       " '__dir__',\n",
       " '__doc__',\n",
       " '__eq__',\n",
       " '__format__',\n",
       " '__ge__',\n",
       " '__getattribute__',\n",
       " '__getitem__',\n",
       " '__gt__',\n",
       " '__hash__',\n",
       " '__iadd__',\n",
       " '__imul__',\n",
       " '__init__',\n",
       " '__init_subclass__',\n",
       " '__iter__',\n",
       " '__le__',\n",
       " '__len__',\n",
       " '__lt__',\n",
       " '__mul__',\n",
       " '__ne__',\n",
       " '__new__',\n",
       " '__reduce__',\n",
       " '__reduce_ex__',\n",
       " '__repr__',\n",
       " '__reversed__',\n",
       " '__rmul__',\n",
       " '__setattr__',\n",
       " '__setitem__',\n",
       " '__sizeof__',\n",
       " '__str__',\n",
       " '__subclasshook__',\n",
       " 'append',\n",
       " 'clear',\n",
       " 'copy',\n",
       " 'count',\n",
       " 'extend',\n",
       " 'index',\n",
       " 'insert',\n",
       " 'pop',\n",
       " 'remove',\n",
       " 'reverse',\n",
       " 'sort']"
      ]
     },
     "execution_count": 16,
     "metadata": {},
     "output_type": "execute_result"
    }
   ],
   "source": [
    "dir(l) #ghfhgfghvhjjh"
   ]
  },
  {
   "cell_type": "markdown",
   "id": "78d46c43-24ef-47ca-ad12-7255172c87fb",
   "metadata": {},
   "source": [
    "len(l)"
   ]
  },
  {
   "cell_type": "code",
   "execution_count": 19,
   "id": "e66e9aed-87a9-4fcc-ae20-e7b663b75851",
   "metadata": {
    "tags": []
   },
   "outputs": [
    {
     "data": {
      "text/plain": [
       "11"
      ]
     },
     "execution_count": 19,
     "metadata": {},
     "output_type": "execute_result"
    }
   ],
   "source": [
    "len(l)"
   ]
  },
  {
   "cell_type": "code",
   "execution_count": 21,
   "id": "02feca87-efd0-4292-974a-be0c481ecff3",
   "metadata": {},
   "outputs": [
    {
     "name": "stdout",
     "output_type": "stream",
     "text": [
      "3 -- multiples of 3\n",
      "6 -- multiples of 3\n",
      "9 -- multiples of 3\n",
      "12 -- multiples of 3\n",
      "15 -- multiples of 3\n",
      "18 -- multiples of 3\n",
      "21 -- multiples of 3\n",
      "24 -- multiples of 3\n",
      "27 -- multiples of 3\n",
      "30 -- multiples of 3\n",
      "33 -- multiples of 3\n",
      "36 -- multiples of 3\n",
      "39 -- multiples of 3\n",
      "42 -- multiples of 3\n",
      "45 -- multiples of 3\n",
      "48 -- multiples of 3\n",
      "51 -- multiples of 3\n",
      "54 -- multiples of 3\n",
      "57 -- multiples of 3\n",
      "60 -- multiples of 3\n",
      "63 -- multiples of 3\n",
      "66 -- multiples of 3\n",
      "69 -- multiples of 3\n",
      "72 -- multiples of 3\n",
      "75 -- multiples of 3\n",
      "78 -- multiples of 3\n",
      "81 -- multiples of 3\n",
      "84 -- multiples of 3\n",
      "87 -- multiples of 3\n",
      "90 -- multiples of 3\n",
      "93 -- multiples of 3\n",
      "96 -- multiples of 3\n",
      "99 -- multiples of 3\n"
     ]
    }
   ],
   "source": [
    "for x in range(3,100):\n",
    "    if x%3==0:\n",
    "        print(x, \"-- multiples of 3\")"
   ]
  },
  {
   "cell_type": "code",
   "execution_count": 22,
   "id": "67a4bd64-318a-4ce3-98cf-2e2e5e69ba37",
   "metadata": {},
   "outputs": [
    {
     "name": "stdout",
     "output_type": "stream",
     "text": [
      "2 -- even\n",
      "3 -- odd\n",
      "4 -- even\n",
      "5 -- odd\n",
      "6 -- even\n",
      "7 -- odd\n",
      "8 -- even\n",
      "9 -- odd\n",
      "10 -- even\n",
      "11 -- odd\n",
      "12 -- even\n",
      "13 -- odd\n",
      "14 -- even\n",
      "15 -- odd\n",
      "16 -- even\n",
      "17 -- odd\n",
      "18 -- even\n",
      "19 -- odd\n",
      "20 -- even\n",
      "21 -- odd\n",
      "22 -- even\n",
      "23 -- odd\n",
      "24 -- even\n",
      "25 -- odd\n",
      "26 -- even\n",
      "27 -- odd\n",
      "28 -- even\n",
      "29 -- odd\n",
      "30 -- even\n",
      "31 -- odd\n",
      "32 -- even\n",
      "33 -- odd\n",
      "34 -- even\n",
      "35 -- odd\n",
      "36 -- even\n",
      "37 -- odd\n",
      "38 -- even\n",
      "39 -- odd\n",
      "40 -- even\n",
      "41 -- odd\n",
      "42 -- even\n",
      "43 -- odd\n",
      "44 -- even\n",
      "45 -- odd\n",
      "46 -- even\n",
      "47 -- odd\n",
      "48 -- even\n",
      "49 -- odd\n",
      "50 -- even\n",
      "51 -- odd\n",
      "52 -- even\n",
      "53 -- odd\n",
      "54 -- even\n",
      "55 -- odd\n",
      "56 -- even\n",
      "57 -- odd\n",
      "58 -- even\n",
      "59 -- odd\n",
      "60 -- even\n",
      "61 -- odd\n",
      "62 -- even\n",
      "63 -- odd\n",
      "64 -- even\n",
      "65 -- odd\n",
      "66 -- even\n",
      "67 -- odd\n",
      "68 -- even\n",
      "69 -- odd\n",
      "70 -- even\n",
      "71 -- odd\n",
      "72 -- even\n",
      "73 -- odd\n",
      "74 -- even\n",
      "75 -- odd\n",
      "76 -- even\n",
      "77 -- odd\n",
      "78 -- even\n",
      "79 -- odd\n",
      "80 -- even\n",
      "81 -- odd\n",
      "82 -- even\n",
      "83 -- odd\n",
      "84 -- even\n",
      "85 -- odd\n",
      "86 -- even\n",
      "87 -- odd\n",
      "88 -- even\n",
      "89 -- odd\n",
      "90 -- even\n",
      "91 -- odd\n",
      "92 -- even\n",
      "93 -- odd\n",
      "94 -- even\n",
      "95 -- odd\n",
      "96 -- even\n",
      "97 -- odd\n",
      "98 -- even\n",
      "99 -- odd\n"
     ]
    }
   ],
   "source": [
    "for x in range(2,100):\n",
    "    if x%2==0:\n",
    "        print(x, \"-- even\")\n",
    "    else:\n",
    "        print(x, \"-- odd\")"
   ]
  },
  {
   "cell_type": "code",
   "execution_count": 25,
   "id": "0c0d750f-87dd-4c20-aa3b-b18feb2e3622",
   "metadata": {},
   "outputs": [
    {
     "name": "stdout",
     "output_type": "stream",
     "text": [
      "2 -- even\n",
      "4 -- even\n",
      "7 -- odd\n",
      "8 -- even\n",
      "44 -- even\n",
      "62 -- even\n",
      "75 -- odd\n"
     ]
    }
   ],
   "source": [
    "l = [2,4, 7,8,44,62,75]\n",
    "for x in l:\n",
    "    if x%2==0:\n",
    "        print(x, \"-- even\")\n",
    "    else:\n",
    "        print(x, \"-- odd\")"
   ]
  },
  {
   "cell_type": "code",
   "execution_count": 2,
   "id": "445c2859-f1d9-42e4-ab26-59dd4303511c",
   "metadata": {},
   "outputs": [],
   "source": [
    "import pandas as pd"
   ]
  },
  {
   "cell_type": "code",
   "execution_count": 4,
   "id": "5c268b12",
   "metadata": {},
   "outputs": [
    {
     "data": {
      "text/plain": [
       "['ArrowDtype',\n",
       " 'BooleanDtype',\n",
       " 'Categorical',\n",
       " 'CategoricalDtype',\n",
       " 'CategoricalIndex',\n",
       " 'DataFrame',\n",
       " 'DateOffset',\n",
       " 'DatetimeIndex',\n",
       " 'DatetimeTZDtype',\n",
       " 'ExcelFile',\n",
       " 'ExcelWriter',\n",
       " 'Flags',\n",
       " 'Float32Dtype',\n",
       " 'Float64Dtype',\n",
       " 'Float64Index',\n",
       " 'Grouper',\n",
       " 'HDFStore',\n",
       " 'Index',\n",
       " 'IndexSlice',\n",
       " 'Int16Dtype',\n",
       " 'Int32Dtype',\n",
       " 'Int64Dtype',\n",
       " 'Int64Index',\n",
       " 'Int8Dtype',\n",
       " 'Interval',\n",
       " 'IntervalDtype',\n",
       " 'IntervalIndex',\n",
       " 'MultiIndex',\n",
       " 'NA',\n",
       " 'NaT',\n",
       " 'NamedAgg',\n",
       " 'Period',\n",
       " 'PeriodDtype',\n",
       " 'PeriodIndex',\n",
       " 'RangeIndex',\n",
       " 'Series',\n",
       " 'SparseDtype',\n",
       " 'StringDtype',\n",
       " 'Timedelta',\n",
       " 'TimedeltaIndex',\n",
       " 'Timestamp',\n",
       " 'UInt16Dtype',\n",
       " 'UInt32Dtype',\n",
       " 'UInt64Dtype',\n",
       " 'UInt64Index',\n",
       " 'UInt8Dtype',\n",
       " '__all__',\n",
       " '__builtins__',\n",
       " '__cached__',\n",
       " '__deprecated_num_index_names',\n",
       " '__dir__',\n",
       " '__doc__',\n",
       " '__docformat__',\n",
       " '__file__',\n",
       " '__getattr__',\n",
       " '__git_version__',\n",
       " '__loader__',\n",
       " '__name__',\n",
       " '__package__',\n",
       " '__path__',\n",
       " '__spec__',\n",
       " '__version__',\n",
       " '_config',\n",
       " '_is_numpy_dev',\n",
       " '_libs',\n",
       " '_testing',\n",
       " '_typing',\n",
       " '_version',\n",
       " 'annotations',\n",
       " 'api',\n",
       " 'array',\n",
       " 'arrays',\n",
       " 'bdate_range',\n",
       " 'compat',\n",
       " 'concat',\n",
       " 'core',\n",
       " 'crosstab',\n",
       " 'cut',\n",
       " 'date_range',\n",
       " 'describe_option',\n",
       " 'errors',\n",
       " 'eval',\n",
       " 'factorize',\n",
       " 'from_dummies',\n",
       " 'get_dummies',\n",
       " 'get_option',\n",
       " 'infer_freq',\n",
       " 'interval_range',\n",
       " 'io',\n",
       " 'isna',\n",
       " 'isnull',\n",
       " 'json_normalize',\n",
       " 'lreshape',\n",
       " 'melt',\n",
       " 'merge',\n",
       " 'merge_asof',\n",
       " 'merge_ordered',\n",
       " 'notna',\n",
       " 'notnull',\n",
       " 'offsets',\n",
       " 'option_context',\n",
       " 'options',\n",
       " 'pandas',\n",
       " 'period_range',\n",
       " 'pivot',\n",
       " 'pivot_table',\n",
       " 'plotting',\n",
       " 'qcut',\n",
       " 'read_clipboard',\n",
       " 'read_csv',\n",
       " 'read_excel',\n",
       " 'read_feather',\n",
       " 'read_fwf',\n",
       " 'read_gbq',\n",
       " 'read_hdf',\n",
       " 'read_html',\n",
       " 'read_json',\n",
       " 'read_orc',\n",
       " 'read_parquet',\n",
       " 'read_pickle',\n",
       " 'read_sas',\n",
       " 'read_spss',\n",
       " 'read_sql',\n",
       " 'read_sql_query',\n",
       " 'read_sql_table',\n",
       " 'read_stata',\n",
       " 'read_table',\n",
       " 'read_xml',\n",
       " 'reset_option',\n",
       " 'set_eng_float_format',\n",
       " 'set_option',\n",
       " 'show_versions',\n",
       " 'test',\n",
       " 'testing',\n",
       " 'timedelta_range',\n",
       " 'to_datetime',\n",
       " 'to_numeric',\n",
       " 'to_pickle',\n",
       " 'to_timedelta',\n",
       " 'tseries',\n",
       " 'unique',\n",
       " 'util',\n",
       " 'value_counts',\n",
       " 'wide_to_long']"
      ]
     },
     "execution_count": 4,
     "metadata": {},
     "output_type": "execute_result"
    }
   ],
   "source": [
    "dir(pd)"
   ]
  },
  {
   "cell_type": "code",
   "execution_count": null,
   "id": "c70d6165",
   "metadata": {},
   "outputs": [],
   "source": []
  }
 ],
 "metadata": {
  "kernelspec": {
   "display_name": "Python 3 (ipykernel)",
   "language": "python",
   "name": "python3"
  },
  "language_info": {
   "codemirror_mode": {
    "name": "ipython",
    "version": 3
   },
   "file_extension": ".py",
   "mimetype": "text/x-python",
   "name": "python",
   "nbconvert_exporter": "python",
   "pygments_lexer": "ipython3",
   "version": "3.10.8"
  }
 },
 "nbformat": 4,
 "nbformat_minor": 5
}
